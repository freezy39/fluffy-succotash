{
 "cells": [
  {
   "cell_type": "markdown",
   "id": "aca23692-1268-48d3-b2b8-d84380e67066",
   "metadata": {
    "tags": []
   },
   "source": [
    "## Data Science Tools and Ecosystem"
   ]
  },
  {
   "cell_type": "markdown",
   "id": "b47412d5-d38a-44f7-b8bb-3fed69cc8715",
   "metadata": {},
   "source": [
    "In this notebook, Data Science Tools and Ecosystem are summarized."
   ]
  },
  {
   "cell_type": "markdown",
   "id": "e90f7c91-c064-428d-970f-d8ac9bfd048b",
   "metadata": {},
   "source": [
    "Some of the popular languages that Data Scientists use are:\n",
    "1. Python\n",
    "2. R\n",
    "3. SQL\n",
    "4. English\n",
    "5. ig-pay atin-lay"
   ]
  },
  {
   "cell_type": "markdown",
   "id": "9f58dd14-cd3c-495b-a975-779fbb10a0cc",
   "metadata": {},
   "source": [
    "**Objectives:**\n",
    "\n",
    "Some of the popular languages that Data Scientists use are:\n",
    "* Python\n",
    "* R\n",
    "* SQL\n",
    "* English\n",
    "* ig-pay atin-lay"
   ]
  },
  {
   "cell_type": "markdown",
   "id": "64081bd8-5f61-4ba1-8430-375a67ae9bd0",
   "metadata": {},
   "source": [
    "Some of the commonly used libraries used by Data Scientists include:\n",
    "1. Matplotlib\n",
    "2. Numpy\n",
    "3. TensorFlow"
   ]
  },
  {
   "cell_type": "markdown",
   "id": "6b0e4467-5c74-45a6-a656-84b48ba6b8cc",
   "metadata": {},
   "source": [
    "| Data Science Tools |\n",
    "| ----- |\n",
    "| ApacheSpark |\n",
    "| RStudio |\n",
    "| Tableau |"
   ]
  },
  {
   "cell_type": "markdown",
   "id": "5f563dee-25ee-4cfc-953e-2d1096a927ff",
   "metadata": {},
   "source": [
    "### Below are a few examples of evaluating arithmetic expressions in Python"
   ]
  },
  {
   "cell_type": "code",
   "execution_count": 1,
   "id": "05320763-3f93-49fd-8702-420625a539df",
   "metadata": {
    "tags": []
   },
   "outputs": [
    {
     "data": {
      "text/plain": [
       "17"
      ]
     },
     "execution_count": 1,
     "metadata": {},
     "output_type": "execute_result"
    }
   ],
   "source": [
    "# This is a simple arithmetic expression to mutiply then add integers\n",
    "\n",
    "(3*4)+5"
   ]
  },
  {
   "cell_type": "code",
   "execution_count": 2,
   "id": "01dfaea6-9456-459f-9e4b-d3add662371c",
   "metadata": {
    "tags": []
   },
   "outputs": [
    {
     "data": {
      "text/plain": [
       "3.3333333333333335"
      ]
     },
     "execution_count": 2,
     "metadata": {},
     "output_type": "execute_result"
    }
   ],
   "source": [
    "# This will convert 200 minutes to hours by diving by 60\n",
    "\n",
    "(200/60)"
   ]
  },
  {
   "cell_type": "markdown",
   "id": "8b7019b9-ce96-4535-ba4a-ab12a42797c1",
   "metadata": {
    "tags": []
   },
   "source": [
    "## Author\n",
    "Joshua Farrell"
   ]
  },
  {
   "cell_type": "code",
   "execution_count": null,
   "id": "3c15d7c7-77fc-45fa-b0b6-fc1b6ee8bda2",
   "metadata": {},
   "outputs": [],
   "source": []
  }
 ],
 "metadata": {
  "kernelspec": {
   "display_name": "Python",
   "language": "python",
   "name": "conda-env-python-py"
  },
  "language_info": {
   "codemirror_mode": {
    "name": "ipython",
    "version": 3
   },
   "file_extension": ".py",
   "mimetype": "text/x-python",
   "name": "python",
   "nbconvert_exporter": "python",
   "pygments_lexer": "ipython3",
   "version": "3.7.12"
  }
 },
 "nbformat": 4,
 "nbformat_minor": 5
}
